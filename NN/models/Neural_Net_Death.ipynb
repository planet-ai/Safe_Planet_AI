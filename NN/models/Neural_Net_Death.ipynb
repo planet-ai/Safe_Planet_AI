{
 "cells": [
  {
   "cell_type": "markdown",
   "metadata": {},
   "source": [
    "# Basic PyTorch Neural Network\n",
    "---\n",
    "## What will we work with ? \n",
    "---\n",
    "Time to put the pieces together. In this sections we'll :\n",
    "- Creat a multi-layer deep learning model\n",
    "- Load data\n",
    "- Train and Validate the model"
   ]
  },
  {
   "cell_type": "markdown",
   "metadata": {},
   "source": [
    "## Perform Standard Imports\n",
    "---"
   ]
  },
  {
   "cell_type": "code",
   "execution_count": 1,
   "metadata": {},
   "outputs": [],
   "source": [
    "import torch\n",
    "import torch.nn as nn\n",
    "import torch.nn.functional as F\n",
    "\n",
    "from torch.utils.data import DataLoader\n",
    "from sklearn.model_selection import train_test_split\n",
    "\n",
    "import pandas as pd\n",
    "import matplotlib.pyplot as plt\n",
    "\n",
    "%matplotlib inline"
   ]
  },
  {
   "cell_type": "markdown",
   "metadata": {},
   "source": [
    "## Creating A Model Class \n",
    "---\n",
    "## Activation : Relu \n",
    "---\n",
    "\n",
    "| Input Layer | Layer 1 | Layer 2 | Output Layer | TEST_RMSE |\n",
    "| ----------- | ------- | ------- | ------------ | --------- |\n",
    "| 10 | 40 | 2 | 1 | 38.78213882 |\n",
    "| 10 | 20 | 2 | 1 | 45.46975708 |\n",
    "| 10 | 50 | 2 | 1 | 82.05916595 |\n",
    "| 10 | 50 | 10 | 1 | 38.47027206 |\n",
    "| 10 | 40 | 10 | 1 | 62.05023575 |\n",
    "| 10 | 30 | 4 | 1 | 38.77592087 |\n",
    "| 10 | 25 | 5 | 1 | 49.85105896 |\n",
    "| 10 | 100 | 50 | 1 | 65.09445953 |\n",
    "| 10 | 20 | 10 | 1 | 41.89645004 |\n",
    "| 10 | 25 | 15 | 1 | 41.88322067 |\n"
   ]
  },
  {
   "cell_type": "code",
   "execution_count": 2,
   "metadata": {},
   "outputs": [
    {
     "name": "stdout",
     "output_type": "stream",
     "text": [
      "Number of Layers in L 1 : 100\n",
      "Number of Layers in L 2 : 20\n",
      "Number of Epochs : 50\n"
     ]
    }
   ],
   "source": [
    "l1 = input(\"Number of Layers in L 1 : \")\n",
    "l2 = input(\"Number of Layers in L 2 : \")\n",
    "n_iter = input(\"Number of Epochs : \")\n",
    "\n",
    "l1 = int(l1)\n",
    "l2 = int(l2)\n",
    "n_iter = int(n_iter)"
   ]
  },
  {
   "cell_type": "code",
   "execution_count": 3,
   "metadata": {},
   "outputs": [],
   "source": [
    "class Model(nn.Module):\n",
    "    def __init__(self, in_features=10, l1=l1, l2=l2, out_features=1):\n",
    "        \n",
    "        super().__init__()\n",
    "        # input layer\n",
    "        self.fc1 = nn.Linear(in_features, l1)\n",
    "        # hiddne layer\n",
    "        self.fc2 = nn.Linear(l1, l2)\n",
    "        #output layer\n",
    "        self.out = nn.Linear(l2, out_features)\n",
    "        \n",
    "    def forward(self, x):\n",
    "        \n",
    "        x = F.relu(self.fc1(x))\n",
    "        x = F.leaky_relu(self.fc2(x))\n",
    "        x = self.out(x)\n",
    "        \n",
    "        \n",
    "        return x"
   ]
  },
  {
   "cell_type": "markdown",
   "metadata": {},
   "source": [
    "## Instantiate the Model class using parameter defaults\n",
    "---"
   ]
  },
  {
   "cell_type": "code",
   "execution_count": 4,
   "metadata": {},
   "outputs": [],
   "source": [
    "torch.manual_seed(44)\n",
    "model = Model()"
   ]
  },
  {
   "cell_type": "markdown",
   "metadata": {},
   "source": [
    "## Load Dataset"
   ]
  },
  {
   "cell_type": "code",
   "execution_count": 5,
   "metadata": {},
   "outputs": [],
   "source": [
    "train_d = pd.read_csv('../data_data/train_dead.csv')\n",
    "test_d = pd.read_csv('../data_data/test_dead.csv')"
   ]
  },
  {
   "cell_type": "code",
   "execution_count": 6,
   "metadata": {},
   "outputs": [],
   "source": [
    "X_train = train_d.iloc[:,0:10]\n",
    "y_train = train_d.iloc[:,10:11]\n",
    "\n",
    "X_test = test_d.iloc[:,0:10]\n",
    "y_test = test_d.iloc[:,0:10:11]\n",
    "\n",
    "X_train = X_train.values\n",
    "X_test = X_test.values\n",
    "\n",
    "y_train = y_train.values\n",
    "y_test = y_test.values"
   ]
  },
  {
   "cell_type": "code",
   "execution_count": 7,
   "metadata": {},
   "outputs": [],
   "source": [
    "X_train = torch.FloatTensor(X_train)\n",
    "X_test = torch.FloatTensor(X_test)\n",
    "\n",
    "\n",
    "y_train = torch.FloatTensor(y_train)\n",
    "y_test = torch.FloatTensor(y_test)"
   ]
  },
  {
   "cell_type": "markdown",
   "metadata": {},
   "source": [
    "## Prepare DataLoader\n",
    "---\n",
    "For this analysis we don't need to create a Dataset object. <br>\n",
    "But we should take advantage of PyTorch's DataLoader tool. <br>\n",
    "Even though our dataset is small, we'll load it into our model in two batches. <br>\n",
    "This technique becomes very helpful with large datasets."
   ]
  },
  {
   "cell_type": "code",
   "execution_count": 8,
   "metadata": {},
   "outputs": [],
   "source": [
    "trainloader = DataLoader(X_train, batch_size=60, shuffle=True)\n",
    "\n",
    "testloader = DataLoader(X_test, batch_size=60, shuffle=False)"
   ]
  },
  {
   "cell_type": "code",
   "execution_count": 9,
   "metadata": {},
   "outputs": [],
   "source": [
    "# For Redo\n",
    "torch.manual_seed(44)\n",
    "model = Model()"
   ]
  },
  {
   "cell_type": "code",
   "execution_count": 10,
   "metadata": {},
   "outputs": [],
   "source": [
    "criterion = nn.MSELoss()\n",
    "optimizer = torch.optim.Adam(model.parameters(), lr=0.0001)"
   ]
  },
  {
   "cell_type": "code",
   "execution_count": 11,
   "metadata": {
    "scrolled": true
   },
   "outputs": [
    {
     "name": "stdout",
     "output_type": "stream",
     "text": [
      "epoch:  1  loss: 3161800.75000000\n",
      "epoch: 11  loss: 292045.06250000\n",
      "epoch: 21  loss: 29535.88867188\n",
      "epoch: 31  loss: 72976.86718750\n",
      "epoch: 41  loss: 27921.74023438\n"
     ]
    }
   ],
   "source": [
    "epochs = n_iter\n",
    "losses = []\n",
    "\n",
    "for i in range(epochs):\n",
    "    i+=1\n",
    "    y_pred = model.forward(X_train)\n",
    "    loss = criterion(y_pred, y_train)\n",
    "    losses.append(loss)\n",
    "    \n",
    "    # a neat trick to save screen space:\n",
    "    if i%10 == 1:\n",
    "        print(f'epoch: {i:2}  loss: {loss.item():1.8f}')\n",
    "\n",
    "    optimizer.zero_grad()\n",
    "    loss.backward()\n",
    "    optimizer.step()"
   ]
  },
  {
   "cell_type": "code",
   "execution_count": 12,
   "metadata": {},
   "outputs": [
    {
     "data": {
      "text/plain": [
       "Text(0.5, 0, 'epoch')"
      ]
     },
     "execution_count": 12,
     "metadata": {},
     "output_type": "execute_result"
    },
    {
     "data": {
      "image/png": "[encoded data removed]",
      "text/plain": [
       "<Figure size 432x288 with 1 Axes>"
      ]
     },
     "metadata": {
      "needs_background": "light"
     },
     "output_type": "display_data"
    }
   ],
   "source": [
    "plt.plot(range(epochs), losses)\n",
    "plt.ylabel('Loss')\n",
    "plt.xlabel('epoch')"
   ]
  },
  {
   "cell_type": "code",
   "execution_count": 13,
   "metadata": {},
   "outputs": [
    {
     "name": "stdout",
     "output_type": "stream",
     "text": [
      "RMSE: 119.33889771\n"
     ]
    }
   ],
   "source": [
    "# TO EVALUATE THE ENTIRE TRAINING SET\n",
    "with torch.no_grad():\n",
    "    y_val = model(X_train)\n",
    "    loss = torch.sqrt(criterion(y_val, y_train))\n",
    "print(f'RMSE: {loss:.8f}')"
   ]
  },
  {
   "cell_type": "markdown",
   "metadata": {},
   "source": [
    "## Validate the model\n",
    "---\n",
    "Here, we want to run the entire test set through the model, and compare it to the known value.\n",
    "For this step, we don't want to update weights and biases, so we set torch.no_grad()"
   ]
  },
  {
   "cell_type": "code",
   "execution_count": 14,
   "metadata": {},
   "outputs": [
    {
     "name": "stdout",
     "output_type": "stream",
     "text": [
      "RMSE: 61.68543243\n"
     ]
    }
   ],
   "source": [
    "#### TO EVALUATE THE ENTIRE TEST SET\n",
    "with torch.no_grad():\n",
    "    y_val = model(X_test)\n",
    "    loss = torch.sqrt(criterion(y_val, y_test))\n",
    "print(f'RMSE: {loss:.8f}')"
   ]
  }
 ],
 "metadata": {
  "kernelspec": {
   "display_name": "Python 3.7.6 64-bit",
   "language": "python",
   "name": "python37664bita9191fbd638c401c8851d16f8fd401f3"
  },
  "language_info": {
   "codemirror_mode": {
    "name": "ipython",
    "version": 3
   },
   "file_extension": ".py",
   "mimetype": "text/x-python",
   "name": "python",
   "nbconvert_exporter": "python",
   "pygments_lexer": "ipython3",
   "version": "3.7.7"
  }
 },
 "nbformat": 4,
 "nbformat_minor": 4
}
