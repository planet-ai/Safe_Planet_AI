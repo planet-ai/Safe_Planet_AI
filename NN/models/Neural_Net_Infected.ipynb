{
 "cells": [
  {
   "cell_type": "markdown",
   "metadata": {},
   "source": [
    "# Basic PyTorch Neural Network\n",
    "---\n",
    "## What will we work with ? \n",
    "---\n",
    "Time to put the pieces together. In this sections we'll :\n",
    "- Creat a multi-layer deep learning model\n",
    "- Load data\n",
    "- Train and Validate the model"
   ]
  },
  {
   "cell_type": "markdown",
   "metadata": {},
   "source": [
    "# To - Do\n",
    "---\n",
    "\n",
    "1. Should I add a third layer ?\n",
    "   <br>After adding third layer, we got to know that we can achieve low training error for some cases. However, the testing RMSE for those cases remains high. \n",
    "\n",
    "For the ones where testing RMSE is low, training RMSE is high.\n",
    "\n",
    "\n",
    "---\n",
    "---"
   ]
  },
  {
   "cell_type": "markdown",
   "metadata": {},
   "source": [
    "## Perform Standard Imports\n",
    "---"
   ]
  },
  {
   "cell_type": "code",
   "execution_count": 1,
   "metadata": {},
   "outputs": [],
   "source": [
    "import torch\n",
    "import torch.nn as nn\n",
    "import torch.nn.functional as F\n",
    "\n",
    "from torch.utils.data import DataLoader\n",
    "from sklearn.model_selection import train_test_split\n",
    "from sklearn.metrics import r2_score as r2\n",
    "\n",
    "import pandas as pd\n",
    "import matplotlib.pyplot as plt\n",
    "\n",
    "%matplotlib inline"
   ]
  },
  {
   "cell_type": "markdown",
   "metadata": {},
   "source": [
    "## Creating A Model Class \n",
    "---\n",
    "## Activation : Leaky Relu for L1 | Relu for L2 | \n",
    "---\n",
    "\n",
    "| Input Layer | Layer 1 | Layer 2 | Output Layer | TEST_RMSE |\n",
    "| ----------- | ------- | ------- | ------------ | --------- |\n",
    "| 10 | 100 | 2 | 1 | 38.23873138 |\n",
    "| 10 | 50 | 25 | 1 | 2232.96899414 |\n",
    "| 10 | 60 | 20 | 1 | 2277.70410156 |\n",
    "| 10 | 40 | 20 | 1 | 2330.19702148 |\n",
    "| 10 | 20 | 30 | 1 | 2262.53344727 |\n",
    "| 10 | 30 | 20 | 1 | 2346.64111328 |\n",
    "| 10 | 200 | 100 | 1 | 2408.80444336 |\n",
    "| 10 | 35 | 15 | 1 | 2238.07788086 |\n",
    "| 10 | 30 | 2 | 1 | 46.84243011 |\n",
    "| 10 | 50 | 10 | 1 | 1894.40747070 |\n",
    "\n",
    "---\n",
    "\n",
    "## Activation : Leaky Relu for L1 | Relu for L2 | Relu for L3 |\n",
    "---\n",
    "\n",
    "| Layer 1 | Layer 2 | Layer 3 | TEST_RMSE |\n",
    "| ----------- | ------- | ------- | ------------ |\n",
    "| 100 | 50 | 2  | 39.08463287 |\n",
    "| 30  | 20 | 10 | 1057.11279297 |\n",
    "| 100 | 20 | 10 | 2224.03369141 |\n",
    "| 20  | 6  | 2  | 38.90698242   |\n",
    "| 20  | 6  | 1  | 2256.34155273 |\n",
    "| 30  | 10 | 2  | 2717.19726562 | (good training rmse)\n",
    "| 30  | 11 | 3  | 2684.04199219 | (good training rmse)\n",
    "| 30  | 11 | 5  | 2796.58154297 | (good training rmse)\n",
    "| 50  | 11 | 5  | 2818.67822266 | (good training rmse)\n",
    "| 30  | 20 | 2  | 146.12924194  |\n",
    "| 21  | 11 | 3  | 2631.75976562 | (v. good training rmse)\n",
    "| 21  | 10 | 3  | 2739.56372070 | (good training rmse)\n",
    "| 200 | 44 | 10 | 2683.55517578 | (training rmse : 300)\n",
    "\n",
    "\n",
    "---\n",
    "\n",
    "\n",
    "## Number of Layers and Activation Function (Finalized)\n",
    "## L1 = 66 | L2 = 44 | L3 = 22\n",
    "## L1 = 200 | L2 = 44 | L3 = 10\n",
    "---"
   ]
  },
  {
   "cell_type": "code",
   "execution_count": 2,
   "metadata": {},
   "outputs": [
    {
     "name": "stdout",
     "output_type": "stream",
     "text": [
      "Number of Layers in L 1 : 200\n",
      "Number of Layers in L 2 : 44\n",
      "Number of Layers in L 3 : 10\n"
     ]
    }
   ],
   "source": [
    "l1 = input(\"Number of Layers in L 1 : \")\n",
    "l2 = input(\"Number of Layers in L 2 : \")\n",
    "l3 = input(\"Number of Layers in L 3 : \")\n",
    "# n_iter = input(\"Number of Epochs : \")\n",
    "\n",
    "l1 = int(l1)\n",
    "l2 = int(l2)\n",
    "l3 = int(l3)\n",
    "# n_iter = int(n_iter)\n",
    "n_iter = 2000"
   ]
  },
  {
   "cell_type": "code",
   "execution_count": 3,
   "metadata": {},
   "outputs": [],
   "source": [
    "class Model(nn.Module):\n",
    "    def __init__(self, in_features=10, l1=l1, l2=l2, l3=l3, out_features=1):\n",
    "        \n",
    "        super().__init__()\n",
    "        # input layer\n",
    "        self.fc1 = nn.Linear(in_features, l1)\n",
    "        # hidden layer 1\n",
    "        self.fc2 = nn.Linear(l1, l2)\n",
    "        # hidden layer 2\n",
    "        self.fc3 = nn.Linear(l2, l3)\n",
    "        #output layer\n",
    "        self.out = nn.Linear(l3, out_features)\n",
    "        \n",
    "          \n",
    "    def forward(self, x):\n",
    "        \n",
    "        x = F.leaky_relu(self.fc1(x))\n",
    "        x = F.leaky_relu(self.fc2(x))\n",
    "        x = (self.fc3(x))\n",
    "        \n",
    "        x = self.out(x)\n",
    "        \n",
    "        return x"
   ]
  },
  {
   "cell_type": "markdown",
   "metadata": {},
   "source": [
    "## Instantiate the Model class using parameter defaults\n",
    "---"
   ]
  },
  {
   "cell_type": "code",
   "execution_count": 4,
   "metadata": {},
   "outputs": [],
   "source": [
    "torch.manual_seed(44)\n",
    "model = Model()"
   ]
  },
  {
   "cell_type": "markdown",
   "metadata": {},
   "source": [
    "## Load Dataset"
   ]
  },
  {
   "cell_type": "code",
   "execution_count": 5,
   "metadata": {},
   "outputs": [],
   "source": [
    "train_d = pd.read_csv('../data_data/train_infections.csv')\n",
    "test_d = pd.read_csv('../data_data/test_infections.csv')"
   ]
  },
  {
   "cell_type": "code",
   "execution_count": 6,
   "metadata": {},
   "outputs": [],
   "source": [
    "X_train = train_d.iloc[:,0:10]\n",
    "y_train = train_d.iloc[:,10:11]\n",
    "\n",
    "X_test = test_d.iloc[:,0:10]\n",
    "y_test = test_d.iloc[:,0:10:11]\n",
    "\n",
    "X_train = X_train.values\n",
    "X_test = X_test.values\n",
    "\n",
    "y_train = y_train.values\n",
    "y_test = y_test.values"
   ]
  },
  {
   "cell_type": "code",
   "execution_count": 7,
   "metadata": {},
   "outputs": [],
   "source": [
    "X_train = torch.FloatTensor(X_train)\n",
    "X_test = torch.FloatTensor(X_test)\n",
    "\n",
    "\n",
    "y_train = torch.FloatTensor(y_train)\n",
    "y_test = torch.FloatTensor(y_test)"
   ]
  },
  {
   "cell_type": "markdown",
   "metadata": {},
   "source": [
    "## Prepare DataLoader\n",
    "---\n",
    "For this analysis we don't need to create a Dataset object. <br>\n",
    "But we should take advantage of PyTorch's DataLoader tool. <br>\n",
    "Even though our dataset is small, we'll load it into our model in two batches. <br>\n",
    "This technique becomes very helpful with large datasets."
   ]
  },
  {
   "cell_type": "code",
   "execution_count": 8,
   "metadata": {},
   "outputs": [],
   "source": [
    "trainloader = DataLoader(X_train, batch_size=100, shuffle=True)\n",
    "\n",
    "testloader = DataLoader(X_test, batch_size=10, shuffle=False)"
   ]
  },
  {
   "cell_type": "code",
   "execution_count": 9,
   "metadata": {},
   "outputs": [],
   "source": [
    "# For Redo\n",
    "torch.manual_seed(44)\n",
    "model = Model()"
   ]
  },
  {
   "cell_type": "code",
   "execution_count": 10,
   "metadata": {},
   "outputs": [],
   "source": [
    "criterion = nn.MSELoss()\n",
    "optimizer = torch.optim.Adam(model.parameters(), lr=0.0001)"
   ]
  },
  {
   "cell_type": "code",
   "execution_count": 11,
   "metadata": {
    "scrolled": false
   },
   "outputs": [
    {
     "name": "stdout",
     "output_type": "stream",
     "text": [
      "epoch:  1  loss: 8657997.00000000\n",
      "epoch: 11  loss: 3011211.50000000\n",
      "epoch: 21  loss: 3256908.00000000\n",
      "epoch: 31  loss: 2924596.75000000\n",
      "epoch: 41  loss: 2908815.25000000\n",
      "epoch: 51  loss: 2867730.75000000\n",
      "epoch: 61  loss: 2858215.75000000\n",
      "epoch: 71  loss: 2839967.25000000\n",
      "epoch: 81  loss: 2824086.00000000\n",
      "epoch: 91  loss: 2808145.25000000\n",
      "epoch: 101  loss: 2791290.50000000\n",
      "epoch: 111  loss: 2773702.75000000\n",
      "epoch: 121  loss: 2755039.00000000\n",
      "epoch: 131  loss: 2734512.75000000\n",
      "epoch: 141  loss: 2710903.25000000\n",
      "epoch: 151  loss: 2684885.25000000\n",
      "epoch: 161  loss: 2657677.00000000\n",
      "epoch: 171  loss: 2630458.50000000\n",
      "epoch: 181  loss: 2604459.50000000\n",
      "epoch: 191  loss: 2580463.75000000\n",
      "epoch: 201  loss: 2556786.00000000\n",
      "epoch: 211  loss: 2533231.50000000\n",
      "epoch: 221  loss: 2509760.50000000\n",
      "epoch: 231  loss: 2486358.00000000\n",
      "epoch: 241  loss: 2463153.00000000\n",
      "epoch: 251  loss: 2440203.75000000\n",
      "epoch: 261  loss: 2418356.75000000\n",
      "epoch: 271  loss: 2397068.25000000\n",
      "epoch: 281  loss: 2376213.75000000\n",
      "epoch: 291  loss: 2355677.50000000\n",
      "epoch: 301  loss: 2335649.50000000\n",
      "epoch: 311  loss: 2316639.75000000\n",
      "epoch: 321  loss: 2298248.50000000\n",
      "epoch: 331  loss: 2280458.75000000\n",
      "epoch: 341  loss: 2263057.00000000\n",
      "epoch: 351  loss: 2246021.25000000\n",
      "epoch: 361  loss: 2229195.50000000\n",
      "epoch: 371  loss: 2212630.75000000\n",
      "epoch: 381  loss: 2196355.25000000\n",
      "epoch: 391  loss: 2180312.25000000\n",
      "epoch: 401  loss: 2164510.75000000\n",
      "epoch: 411  loss: 2148794.50000000\n",
      "epoch: 421  loss: 2116465.50000000\n",
      "epoch: 431  loss: 2095968.75000000\n",
      "epoch: 441  loss: 2074546.25000000\n",
      "epoch: 451  loss: 2050891.12500000\n",
      "epoch: 461  loss: 2027738.87500000\n",
      "epoch: 471  loss: 2004310.00000000\n",
      "epoch: 481  loss: 1980504.37500000\n",
      "epoch: 491  loss: 1955905.75000000\n",
      "epoch: 501  loss: 1930637.00000000\n",
      "epoch: 511  loss: 1904599.87500000\n",
      "epoch: 521  loss: 1877481.62500000\n",
      "epoch: 531  loss: 1849121.75000000\n",
      "epoch: 541  loss: 1819718.37500000\n",
      "epoch: 551  loss: 1789078.87500000\n",
      "epoch: 561  loss: 1757499.50000000\n",
      "epoch: 571  loss: 1725161.87500000\n",
      "epoch: 581  loss: 1692033.37500000\n",
      "epoch: 591  loss: 1657916.25000000\n",
      "epoch: 601  loss: 1622746.87500000\n",
      "epoch: 611  loss: 1586635.37500000\n",
      "epoch: 621  loss: 1549480.00000000\n",
      "epoch: 631  loss: 1511512.00000000\n",
      "epoch: 641  loss: 1472623.62500000\n",
      "epoch: 651  loss: 1432821.75000000\n",
      "epoch: 661  loss: 1392069.50000000\n",
      "epoch: 671  loss: 1350699.25000000\n",
      "epoch: 681  loss: 1308555.12500000\n",
      "epoch: 691  loss: 1265922.75000000\n",
      "epoch: 701  loss: 1222765.12500000\n",
      "epoch: 711  loss: 1179170.12500000\n",
      "epoch: 721  loss: 1135333.00000000\n",
      "epoch: 731  loss: 1090934.62500000\n",
      "epoch: 741  loss: 1046423.81250000\n",
      "epoch: 751  loss: 1002081.25000000\n",
      "epoch: 761  loss: 957614.75000000\n",
      "epoch: 771  loss: 913314.25000000\n",
      "epoch: 781  loss: 869339.43750000\n",
      "epoch: 791  loss: 825823.50000000\n",
      "epoch: 801  loss: 783007.25000000\n",
      "epoch: 811  loss: 740910.93750000\n",
      "epoch: 821  loss: 699807.75000000\n",
      "epoch: 831  loss: 659832.12500000\n",
      "epoch: 841  loss: 522408.65625000\n",
      "epoch: 851  loss: 453349.78125000\n",
      "epoch: 861  loss: 411346.59375000\n",
      "epoch: 871  loss: 375853.96875000\n",
      "epoch: 881  loss: 345004.03125000\n",
      "epoch: 891  loss: 317644.62500000\n",
      "epoch: 901  loss: 293106.06250000\n",
      "epoch: 911  loss: 271405.50000000\n",
      "epoch: 921  loss: 252062.45312500\n",
      "epoch: 931  loss: 235677.42187500\n",
      "epoch: 941  loss: 220110.42187500\n",
      "epoch: 951  loss: 206914.84375000\n",
      "epoch: 961  loss: 195235.71875000\n",
      "epoch: 971  loss: 185160.57812500\n",
      "epoch: 981  loss: 175396.67187500\n",
      "epoch: 991  loss: 167504.95312500\n",
      "epoch: 1001  loss: 159310.56250000\n",
      "epoch: 1011  loss: 152741.65625000\n",
      "epoch: 1021  loss: 147185.89062500\n",
      "epoch: 1031  loss: 142301.42187500\n",
      "epoch: 1041  loss: 139517.62500000\n",
      "epoch: 1051  loss: 134971.35937500\n",
      "epoch: 1061  loss: 128199.22656250\n",
      "epoch: 1071  loss: 125000.39843750\n",
      "epoch: 1081  loss: 122579.23437500\n",
      "epoch: 1091  loss: 120364.60937500\n",
      "epoch: 1101  loss: 118777.32031250\n",
      "epoch: 1111  loss: 116086.02343750\n",
      "epoch: 1121  loss: 114573.39843750\n",
      "epoch: 1131  loss: 112690.82812500\n",
      "epoch: 1141  loss: 113323.00781250\n",
      "epoch: 1151  loss: 111087.50781250\n",
      "epoch: 1161  loss: 109184.10937500\n",
      "epoch: 1171  loss: 108307.31250000\n",
      "epoch: 1181  loss: 107476.74218750\n",
      "epoch: 1191  loss: 106630.07812500\n",
      "epoch: 1201  loss: 105955.21093750\n",
      "epoch: 1211  loss: 105047.17968750\n",
      "epoch: 1221  loss: 104489.28125000\n",
      "epoch: 1231  loss: 104610.28125000\n",
      "epoch: 1241  loss: 103345.00000000\n",
      "epoch: 1251  loss: 102889.78125000\n",
      "epoch: 1261  loss: 102290.60156250\n",
      "epoch: 1271  loss: 101935.59375000\n",
      "epoch: 1281  loss: 101629.08593750\n",
      "epoch: 1291  loss: 101176.59375000\n",
      "epoch: 1301  loss: 100713.38281250\n",
      "epoch: 1311  loss: 100258.42968750\n",
      "epoch: 1321  loss: 100128.89062500\n",
      "epoch: 1331  loss: 100535.62500000\n",
      "epoch: 1341  loss: 99464.25781250\n",
      "epoch: 1351  loss: 99310.44531250\n",
      "epoch: 1361  loss: 98897.09375000\n",
      "epoch: 1371  loss: 98660.00000000\n",
      "epoch: 1381  loss: 98372.83593750\n",
      "epoch: 1391  loss: 97999.07031250\n",
      "epoch: 1401  loss: 98008.64062500\n",
      "epoch: 1411  loss: 99226.03906250\n",
      "epoch: 1421  loss: 98076.06250000\n",
      "epoch: 1431  loss: 97501.14062500\n",
      "epoch: 1441  loss: 97131.15625000\n",
      "epoch: 1451  loss: 96754.95312500\n",
      "epoch: 1461  loss: 96623.68750000\n",
      "epoch: 1471  loss: 96598.19531250\n",
      "epoch: 1481  loss: 96242.17968750\n",
      "epoch: 1491  loss: 96313.07812500\n",
      "epoch: 1501  loss: 96550.03906250\n",
      "epoch: 1511  loss: 95821.74218750\n",
      "epoch: 1521  loss: 95867.72656250\n",
      "epoch: 1531  loss: 95435.04687500\n",
      "epoch: 1541  loss: 95740.60156250\n",
      "epoch: 1551  loss: 95227.90625000\n",
      "epoch: 1561  loss: 95000.21875000\n",
      "epoch: 1571  loss: 94930.24218750\n",
      "epoch: 1581  loss: 94715.63281250\n",
      "epoch: 1591  loss: 94542.70312500\n",
      "epoch: 1601  loss: 95038.14062500\n",
      "epoch: 1611  loss: 95378.25000000\n",
      "epoch: 1621  loss: 94747.25000000\n",
      "epoch: 1631  loss: 94223.50781250\n",
      "epoch: 1641  loss: 94056.53906250\n",
      "epoch: 1651  loss: 93930.85937500\n",
      "epoch: 1661  loss: 93811.88281250\n",
      "epoch: 1671  loss: 93679.49218750\n",
      "epoch: 1681  loss: 93718.60937500\n",
      "epoch: 1691  loss: 93426.06250000\n",
      "epoch: 1701  loss: 93316.47656250\n",
      "epoch: 1711  loss: 93155.04687500\n",
      "epoch: 1721  loss: 93124.12500000\n",
      "epoch: 1731  loss: 92962.73437500\n",
      "epoch: 1741  loss: 92832.39062500\n",
      "epoch: 1751  loss: 93778.67968750\n",
      "epoch: 1761  loss: 92615.29687500\n",
      "epoch: 1771  loss: 92555.35156250\n",
      "epoch: 1781  loss: 92518.80468750\n",
      "epoch: 1791  loss: 92436.59375000\n",
      "epoch: 1801  loss: 92288.88281250\n",
      "epoch: 1811  loss: 92531.21875000\n",
      "epoch: 1821  loss: 92888.39843750\n",
      "epoch: 1831  loss: 92333.91406250\n",
      "epoch: 1841  loss: 91740.88281250\n",
      "epoch: 1851  loss: 91821.57031250\n",
      "epoch: 1861  loss: 91599.00781250\n",
      "epoch: 1871  loss: 91967.05468750\n",
      "epoch: 1881  loss: 92351.32031250\n",
      "epoch: 1891  loss: 91539.00781250\n",
      "epoch: 1901  loss: 91404.95312500\n",
      "epoch: 1911  loss: 91363.48437500\n",
      "epoch: 1921  loss: 90991.20312500\n",
      "epoch: 1931  loss: 90968.50781250\n",
      "epoch: 1941  loss: 90936.63281250\n",
      "epoch: 1951  loss: 92044.71093750\n",
      "epoch: 1961  loss: 90803.69531250\n",
      "epoch: 1971  loss: 90782.25781250\n",
      "epoch: 1981  loss: 90713.92968750\n",
      "epoch: 1991  loss: 90459.14843750\n"
     ]
    }
   ],
   "source": [
    "epochs = n_iter\n",
    "losses = []\n",
    "\n",
    "for i in range(epochs):\n",
    "    i+=1\n",
    "    y_pred = model.forward(X_train)\n",
    "    loss = criterion(y_pred, y_train)\n",
    "    losses.append(loss)\n",
    "    \n",
    "    # a neat trick to save screen space:\n",
    "    if i%10 == 1:\n",
    "        print(f'epoch: {i:2}  loss: {loss.item():1.8f}')\n",
    "\n",
    "    optimizer.zero_grad()\n",
    "    loss.backward()\n",
    "    optimizer.step()"
   ]
  },
  {
   "cell_type": "code",
   "execution_count": 12,
   "metadata": {},
   "outputs": [
    {
     "data": {
      "text/plain": [
       "Text(0.5, 0, 'epoch')"
      ]
     },
     "execution_count": 12,
     "metadata": {},
     "output_type": "execute_result"
    },
    {
     "data": {
      "image/png": "[encoded data removed]",
      "text/plain": [
       "<Figure size 432x288 with 1 Axes>"
      ]
     },
     "metadata": {
      "needs_background": "light"
     },
     "output_type": "display_data"
    }
   ],
   "source": [
    "plt.plot(range(epochs), losses)\n",
    "plt.ylabel('Loss')\n",
    "plt.xlabel('epoch')"
   ]
  },
  {
   "cell_type": "code",
   "execution_count": 16,
   "metadata": {},
   "outputs": [
    {
     "name": "stdout",
     "output_type": "stream",
     "text": [
      "RMSE: 300.34558105\n"
     ]
    }
   ],
   "source": [
    "# TO EVALUATE THE ENTIRE TRAINING SET\n",
    "with torch.no_grad():\n",
    "    y_val = model(X_train)\n",
    "    loss = torch.sqrt(criterion(y_val, y_train))\n",
    "print(f'RMSE: {loss:.8f}')"
   ]
  },
  {
   "cell_type": "markdown",
   "metadata": {},
   "source": [
    "## Validate the model\n",
    "---\n",
    "Here, we want to run the entire test set through the model, and compare it to the known value. <br>\n",
    "For this step, we don't want to update weights and biases, so we set torch.no_grad()"
   ]
  },
  {
   "cell_type": "code",
   "execution_count": 14,
   "metadata": {},
   "outputs": [
    {
     "name": "stdout",
     "output_type": "stream",
     "text": [
      "RMSE: 2683.55517578\n"
     ]
    }
   ],
   "source": [
    "# TO EVALUATE THE ENTIRE TEST SET\n",
    "with torch.no_grad():\n",
    "    y_val = model(X_test)\n",
    "    loss = torch.sqrt(criterion(y_val, y_test))\n",
    "print(f'RMSE: {loss:.8f}')"
   ]
  },
  {
   "cell_type": "markdown",
   "metadata": {},
   "source": [
    "# Calculating the R2 score for regression\n",
    "---\n",
    "#### Using scikit learn library to calculate this\n",
    "#### r2_score(y_true, y_pred)\n",
    "---\n",
    "\n",
    "## Note : This metrics shows goodness of fit for the regression model. We don't have a time series data in this model. So, it will be not useful use this metric for now. Might be useful once we use this model for a particular county with a time series data."
   ]
  },
  {
   "cell_type": "code",
   "execution_count": 17,
   "metadata": {},
   "outputs": [
    {
     "data": {
      "text/plain": [
       "0.9850548186197268"
      ]
     },
     "execution_count": 17,
     "metadata": {},
     "output_type": "execute_result"
    }
   ],
   "source": [
    "score = r2(y_train, y_val)\n",
    "score"
   ]
  },
  {
   "cell_type": "code",
   "execution_count": null,
   "metadata": {},
   "outputs": [],
   "source": []
  }
 ],
 "metadata": {
  "kernelspec": {
   "display_name": "Python 3.7.6 64-bit",
   "language": "python",
   "name": "python37664bita9191fbd638c401c8851d16f8fd401f3"
  },
  "language_info": {
   "codemirror_mode": {
    "name": "ipython",
    "version": 3
   },
   "file_extension": ".py",
   "mimetype": "text/x-python",
   "name": "python",
   "nbconvert_exporter": "python",
   "pygments_lexer": "ipython3",
   "version": "3.7.7"
  }
 },
 "nbformat": 4,
 "nbformat_minor": 4
}
